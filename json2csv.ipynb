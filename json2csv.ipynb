{
 "cells": [
  {
   "cell_type": "markdown",
   "metadata": {},
   "source": [
    "## 应用程序综合实践1\n",
    "16计算机1班 Xb16680108 李智敏"
   ]
  },
  {
   "cell_type": "markdown",
   "metadata": {},
   "source": [
    "### 读取文件\n",
    "读取文件数据到data_str, 这里注意文件编码为UTF-8，json的key-value结构是无序的。"
   ]
  },
  {
   "cell_type": "code",
   "execution_count": 1,
   "metadata": {},
   "outputs": [],
   "source": [
    "with open('final.json', 'r', encoding='UTF-8') as file_in:\n",
    "    data_str = file_in.read()"
   ]
  },
  {
   "cell_type": "markdown",
   "metadata": {},
   "source": [
    "测试一下读取的json内容对不对"
   ]
  },
  {
   "cell_type": "code",
   "execution_count": 2,
   "metadata": {},
   "outputs": [
    {
     "name": "stdout",
     "output_type": "stream",
     "text": [
      "字符串头:  {\n",
      "    \"data\":{\n",
      "        \"currentTime\":1546510953211,\n",
      "        \"pageCount\":4,\n",
      "        \"page\":3,\n",
      "       \n",
      "字符串尾:    \"brandId\":157402,\n",
      "                \"isXbProduct\":1\n",
      "            }\n",
      "        ]\n",
      "    },\n",
      "    \"code\":\"0\"\n",
      "}\n",
      "\n"
     ]
    }
   ],
   "source": [
    "print(\"字符串头: \", data_str[:100])\n",
    "print(\"字符串尾: \", data_str[-100:])"
   ]
  },
  {
   "cell_type": "markdown",
   "metadata": {},
   "source": [
    "### 元素的替换\n",
    "对json文件做一个替换，这里这样替换是有问题的，因为从前向后扫描的时候只有在引号外的元素才需要替换，可以对扫过的引号数量取模实现。"
   ]
  },
  {
   "cell_type": "code",
   "execution_count": 3,
   "metadata": {},
   "outputs": [],
   "source": [
    "data_str = data_str.replace('true','True')\n",
    "data_str = data_str.replace('false','False')\n",
    "data_str = data_str.replace('null','None')\n",
    "data_str = data_str.replace('\\n','')"
   ]
  },
  {
   "cell_type": "markdown",
   "metadata": {},
   "source": [
    "### 类型函数的实现\n",
    "判断当前字符串属于哪个类型"
   ]
  },
  {
   "cell_type": "code",
   "execution_count": 4,
   "metadata": {},
   "outputs": [],
   "source": [
    "def query_type(data):\n",
    "    for ch in data:\n",
    "        if ch == '{':\n",
    "            return \"dict\"\n",
    "        if ch == '[':\n",
    "            return \"list\"\n",
    "    return \"value\""
   ]
  },
  {
   "cell_type": "markdown",
   "metadata": {},
   "source": [
    "### head函数的实现"
   ]
  },
  {
   "cell_type": "code",
   "execution_count": 5,
   "metadata": {
    "scrolled": false
   },
   "outputs": [
    {
     "name": "stdout",
     "output_type": "stream",
     "text": [
      "['data_currentTime', 'data_pageCount', 'data_page', 'data_pageSize', 'data_isNoStock', 'data_success', 'data_wareInfoList_name', 'data_wareInfoList_skuId', 'data_wareInfoList_imageUrl', 'data_wareInfoList_price']\n",
      "['data_wareInfoList_seckillPromotion_minAmount', 'data_wareInfoList_seckillPromotion_maxAmount', 'data_wareInfoList_seckillPromotion_price', 'data_wareInfoList_seckillPromotion_promotionPrice', 'data_wareInfoList_promotionList_skuList_adWords', 'data_wareInfoList_limitcount', 'data_wareInfoList_limitHour', 'data_wareInfoList_promotionList_limitTime', 'data_wareInfoList_seckillPromotion_limitTime', 'code']\n",
      "表头数量: 116\n"
     ]
    }
   ],
   "source": [
    "data_head = []  # 这里要保证有序，可以用有序字典，映射的时候可以用dict\n",
    "def get_json_head(data, loc=\"\"):\n",
    "    data = str(data)  # 将数据转换成字符串\n",
    "    \n",
    "    data_type = query_type(data)\n",
    "    if data_type == \"value\":  # 如果是元素\n",
    "        if loc[1:] not in data_head:\n",
    "             data_head.append(loc[1:])\n",
    "        return\n",
    "    \n",
    "    if data_type == \"dict\":  # 如果是字典\n",
    "        data_dict = eval(data)\n",
    "        for key in data_dict:\n",
    "            get_json_head(data_dict[key], loc + \"_\" + key)\n",
    "        return\n",
    "    \n",
    "    if data_type == \"list\":  # 如果是列表\n",
    "        data_list = list(eval(data))\n",
    "        for item in data_list:\n",
    "            get_json_head(item, loc)\n",
    "        return\n",
    "        \n",
    "get_json_head(data_str)\n",
    "print(data_head[:10])\n",
    "print(data_head[-10:])\n",
    "print(\"表头数量:\", len(data_head))"
   ]
  },
  {
   "cell_type": "markdown",
   "metadata": {},
   "source": [
    "### body内容的转换\n",
    "data_head_dict保存转换后CSV的body内容"
   ]
  },
  {
   "cell_type": "code",
   "execution_count": 6,
   "metadata": {},
   "outputs": [],
   "source": [
    "data_head_dict = {}\n",
    "for head in data_head:\n",
    "    # print(head)\n",
    "    tmp = []\n",
    "    for i in range(200):\n",
    "        tmp.append(\"\")\n",
    "    data_head_dict[head] = tmp"
   ]
  },
  {
   "cell_type": "markdown",
   "metadata": {},
   "source": [
    "宽度的拓展，这里实现的时候比较暴力。解决方案如下:\n",
    "1. 最后自底向上删空行\n",
    "2. 处理head的时候加tag记录行号"
   ]
  },
  {
   "cell_type": "code",
   "execution_count": 7,
   "metadata": {
    "scrolled": false
   },
   "outputs": [
    {
     "name": "stdout",
     "output_type": "stream",
     "text": [
      "data_currentTime ['', '', '', '', '', '', '', '', '', ''] 200\n",
      "data_pageCount ['', '', '', '', '', '', '', '', '', ''] 200\n",
      "data_page ['', '', '', '', '', '', '', '', '', ''] 200\n",
      "data_pageSize ['', '', '', '', '', '', '', '', '', ''] 200\n",
      "data_isNoStock ['', '', '', '', '', '', '', '', '', ''] 200\n",
      "data_success ['', '', '', '', '', '', '', '', '', ''] 200\n",
      "data_wareInfoList_name ['', '', '', '', '', '', '', '', '', ''] 200\n",
      "data_wareInfoList_skuId ['', '', '', '', '', '', '', '', '', ''] 200\n",
      "data_wareInfoList_imageUrl ['', '', '', '', '', '', '', '', '', ''] 200\n",
      "data_wareInfoList_price ['', '', '', '', '', '', '', '', '', ''] 200\n"
     ]
    }
   ],
   "source": [
    "for key in data_head[:10]:\n",
    "    # print(key, data_head_dict[key][:10])\n",
    "    # print(key, len(data_head_dict[key]))\n",
    "    print(key, data_head_dict[key][:10], len(data_head_dict[key]))\n",
    "    pass"
   ]
  },
  {
   "cell_type": "code",
   "execution_count": 8,
   "metadata": {},
   "outputs": [],
   "source": [
    "row_now = 0\n",
    "def get_json_table(data, loc=\"\", rows=0):\n",
    "    global row_now\n",
    "    data = str(data)  # 将数据转换成字符串\n",
    "    \n",
    "    data_type = query_type(data)\n",
    "    if data_type == \"value\":  # 如果是元素\n",
    "        key = loc[1:]\n",
    "        data_head_dict[key][rows] = data \n",
    "        return\n",
    "    \n",
    "    if data_type == \"dict\":  # 如果是字典\n",
    "        data_dict = eval(data)\n",
    "        for key in data_dict:\n",
    "            get_json_table(data_dict[key], loc + \"_\" + key, rows)\n",
    "        return\n",
    "    \n",
    "    if data_type == \"list\":  # 如果是列表\n",
    "        data_list = list(eval(data))\n",
    "        for i in range(len(data_list)):\n",
    "            if i > 0:\n",
    "                row_now += 1\n",
    "            get_json_table(data_list[i], loc, row_now)\n",
    "        return\n",
    "        \n",
    "get_json_table(data_str)"
   ]
  },
  {
   "cell_type": "markdown",
   "metadata": {},
   "source": [
    "看一下表的内容是否正确"
   ]
  },
  {
   "cell_type": "code",
   "execution_count": 9,
   "metadata": {
    "scrolled": false
   },
   "outputs": [
    {
     "name": "stdout",
     "output_type": "stream",
     "text": [
      "data_currentTime ['1546510953211', '', '', '', '', '', '', '', '', ''] 200\n",
      "data_pageCount ['4', '', '', '', '', '', '', '', '', ''] 200\n",
      "data_page ['3', '', '', '', '', '', '', '', '', ''] 200\n",
      "data_pageSize ['10', '', '', '', '', '', '', '', '', ''] 200\n",
      "data_isNoStock ['0', '', '', '', '', '', '', '', '', ''] 200\n",
      "data_success ['True', '', '', '', '', '', '', '', '', ''] 200\n",
      "data_wareInfoList_name ['【自营】【整箱】京华门 北京二锅头酒绿瓶 56度 清香风格 500ml*12瓶（产品包装升级随机发货）', '【自营】【整箱】喜力（Heineken）啤酒500ml*12听', '', '', '', '', '', '', '', ''] 200\n",
      "data_wareInfoList_skuId ['100000388367', '7120050', '', '', '', '', '', '', '', ''] 200\n",
      "data_wareInfoList_imageUrl ['//img10.360buyimg.com/n7/jfs/t1/8619/15/8670/256329/5c0f87a6E64dac15c/a1e17b14bb60ddc0.jpg', '//img10.360buyimg.com/n7/jfs/t18775/305/1764241768/131776/ab95ffad/5ad70385N5373f0dc.jpg', '', '', '', '', '', '', '', ''] 200\n",
      "data_wareInfoList_price ['89.00', '86.00', '', '', '', '', '', '', '', ''] 200\n"
     ]
    }
   ],
   "source": [
    "for key in data_head[:10]:\n",
    "    # print(key, data_head_dict[key][:10])\n",
    "    # print(key, len(data_head_dict[key]))\n",
    "    print(key, data_head_dict[key][:10], len(data_head_dict[key]))\n",
    "    pass"
   ]
  },
  {
   "cell_type": "markdown",
   "metadata": {},
   "source": [
    "### 输出CSV文件"
   ]
  },
  {
   "cell_type": "code",
   "execution_count": 10,
   "metadata": {},
   "outputs": [],
   "source": [
    "with open('final_gbk.csv', 'w',encoding=\"gbk\") as file_out:\n",
    "    for head in data_head[:-1]:\n",
    "        file_out.write(head)\n",
    "        file_out.write(\",\")  # 逗号分隔\n",
    "    file_out.write(data_head[-1] + \"\\n\")  # 最后一个换行\n",
    "    for i in range(200):\n",
    "        for head in data_head[:-1]:\n",
    "            file_out.write(data_head_dict[head][i])\n",
    "            file_out.write(\",\")\n",
    "        last_key = data_head[-1]  # 取最后一个head\n",
    "        file_out.write(data_head_dict[last_key][i])\n",
    "        file_out.write(\"\\n\")"
   ]
  },
  {
   "cell_type": "markdown",
   "metadata": {},
   "source": [
    "以utf-8编码格式输出文件"
   ]
  },
  {
   "cell_type": "code",
   "execution_count": 11,
   "metadata": {},
   "outputs": [],
   "source": [
    "with open('final_utf8.csv', 'w',encoding=\"utf-8\") as file_out:\n",
    "    for head in data_head[:-1]:\n",
    "        file_out.write(head)\n",
    "        file_out.write(\",\")  # 逗号分隔\n",
    "    file_out.write(data_head[-1] + \"\\n\")  # 最后一个换行\n",
    "    for i in range(200):\n",
    "        for head in data_head[:-1]:\n",
    "            file_out.write(data_head_dict[head][i])\n",
    "            file_out.write(\",\")\n",
    "        last_key = data_head[-1]  # 取最后一个head\n",
    "        file_out.write(data_head_dict[last_key][i])\n",
    "        file_out.write(\"\\n\")"
   ]
  },
  {
   "cell_type": "code",
   "execution_count": 12,
   "metadata": {},
   "outputs": [
    {
     "data": {
      "text/html": [
       "<div>\n",
       "<style scoped>\n",
       "    .dataframe tbody tr th:only-of-type {\n",
       "        vertical-align: middle;\n",
       "    }\n",
       "\n",
       "    .dataframe tbody tr th {\n",
       "        vertical-align: top;\n",
       "    }\n",
       "\n",
       "    .dataframe thead th {\n",
       "        text-align: right;\n",
       "    }\n",
       "</style>\n",
       "<table border=\"1\" class=\"dataframe\">\n",
       "  <thead>\n",
       "    <tr style=\"text-align: right;\">\n",
       "      <th></th>\n",
       "      <th>data_currentTime</th>\n",
       "      <th>data_pageCount</th>\n",
       "      <th>data_page</th>\n",
       "      <th>data_pageSize</th>\n",
       "      <th>data_isNoStock</th>\n",
       "      <th>data_success</th>\n",
       "      <th>data_wareInfoList_name</th>\n",
       "      <th>data_wareInfoList_skuId</th>\n",
       "      <th>data_wareInfoList_imageUrl</th>\n",
       "      <th>data_wareInfoList_price</th>\n",
       "      <th>...</th>\n",
       "      <th>data_wareInfoList_seckillPromotion_minAmount</th>\n",
       "      <th>data_wareInfoList_seckillPromotion_maxAmount</th>\n",
       "      <th>data_wareInfoList_seckillPromotion_price</th>\n",
       "      <th>data_wareInfoList_seckillPromotion_promotionPrice</th>\n",
       "      <th>data_wareInfoList_promotionList_skuList_adWords</th>\n",
       "      <th>data_wareInfoList_limitcount</th>\n",
       "      <th>data_wareInfoList_limitHour</th>\n",
       "      <th>data_wareInfoList_promotionList_limitTime</th>\n",
       "      <th>data_wareInfoList_seckillPromotion_limitTime</th>\n",
       "      <th>code</th>\n",
       "    </tr>\n",
       "  </thead>\n",
       "  <tbody>\n",
       "    <tr>\n",
       "      <th>0</th>\n",
       "      <td>1.546511e+12</td>\n",
       "      <td>4.0</td>\n",
       "      <td>3.0</td>\n",
       "      <td>10.0</td>\n",
       "      <td>0.0</td>\n",
       "      <td>True</td>\n",
       "      <td>【自营】【整箱】京华门 北京二锅头酒绿瓶 56度 清香风格 500ml*12瓶（产品包装升级...</td>\n",
       "      <td>1.000004e+11</td>\n",
       "      <td>//img10.360buyimg.com/n7/jfs/t1/8619/15/8670/2...</td>\n",
       "      <td>89.0</td>\n",
       "      <td>...</td>\n",
       "      <td>NaN</td>\n",
       "      <td>NaN</td>\n",
       "      <td>NaN</td>\n",
       "      <td>NaN</td>\n",
       "      <td>NaN</td>\n",
       "      <td>NaN</td>\n",
       "      <td>NaN</td>\n",
       "      <td>NaN</td>\n",
       "      <td>NaN</td>\n",
       "      <td>0.0</td>\n",
       "    </tr>\n",
       "    <tr>\n",
       "      <th>1</th>\n",
       "      <td>NaN</td>\n",
       "      <td>NaN</td>\n",
       "      <td>NaN</td>\n",
       "      <td>NaN</td>\n",
       "      <td>NaN</td>\n",
       "      <td>NaN</td>\n",
       "      <td>【自营】【整箱】喜力（Heineken）啤酒500ml*12听</td>\n",
       "      <td>7.120050e+06</td>\n",
       "      <td>//img10.360buyimg.com/n7/jfs/t18775/305/176424...</td>\n",
       "      <td>86.0</td>\n",
       "      <td>...</td>\n",
       "      <td>NaN</td>\n",
       "      <td>NaN</td>\n",
       "      <td>NaN</td>\n",
       "      <td>NaN</td>\n",
       "      <td>NaN</td>\n",
       "      <td>NaN</td>\n",
       "      <td>NaN</td>\n",
       "      <td>NaN</td>\n",
       "      <td>NaN</td>\n",
       "      <td>NaN</td>\n",
       "    </tr>\n",
       "    <tr>\n",
       "      <th>2</th>\n",
       "      <td>NaN</td>\n",
       "      <td>NaN</td>\n",
       "      <td>NaN</td>\n",
       "      <td>NaN</td>\n",
       "      <td>NaN</td>\n",
       "      <td>NaN</td>\n",
       "      <td>NaN</td>\n",
       "      <td>NaN</td>\n",
       "      <td>NaN</td>\n",
       "      <td>NaN</td>\n",
       "      <td>...</td>\n",
       "      <td>NaN</td>\n",
       "      <td>NaN</td>\n",
       "      <td>NaN</td>\n",
       "      <td>NaN</td>\n",
       "      <td>NaN</td>\n",
       "      <td>NaN</td>\n",
       "      <td>NaN</td>\n",
       "      <td>NaN</td>\n",
       "      <td>NaN</td>\n",
       "      <td>NaN</td>\n",
       "    </tr>\n",
       "    <tr>\n",
       "      <th>3</th>\n",
       "      <td>NaN</td>\n",
       "      <td>NaN</td>\n",
       "      <td>NaN</td>\n",
       "      <td>NaN</td>\n",
       "      <td>NaN</td>\n",
       "      <td>NaN</td>\n",
       "      <td>NaN</td>\n",
       "      <td>NaN</td>\n",
       "      <td>NaN</td>\n",
       "      <td>NaN</td>\n",
       "      <td>...</td>\n",
       "      <td>NaN</td>\n",
       "      <td>NaN</td>\n",
       "      <td>NaN</td>\n",
       "      <td>NaN</td>\n",
       "      <td>NaN</td>\n",
       "      <td>NaN</td>\n",
       "      <td>NaN</td>\n",
       "      <td>NaN</td>\n",
       "      <td>NaN</td>\n",
       "      <td>NaN</td>\n",
       "    </tr>\n",
       "    <tr>\n",
       "      <th>4</th>\n",
       "      <td>NaN</td>\n",
       "      <td>NaN</td>\n",
       "      <td>NaN</td>\n",
       "      <td>NaN</td>\n",
       "      <td>NaN</td>\n",
       "      <td>NaN</td>\n",
       "      <td>NaN</td>\n",
       "      <td>NaN</td>\n",
       "      <td>NaN</td>\n",
       "      <td>NaN</td>\n",
       "      <td>...</td>\n",
       "      <td>NaN</td>\n",
       "      <td>NaN</td>\n",
       "      <td>NaN</td>\n",
       "      <td>NaN</td>\n",
       "      <td>NaN</td>\n",
       "      <td>NaN</td>\n",
       "      <td>NaN</td>\n",
       "      <td>NaN</td>\n",
       "      <td>NaN</td>\n",
       "      <td>NaN</td>\n",
       "    </tr>\n",
       "  </tbody>\n",
       "</table>\n",
       "<p>5 rows × 116 columns</p>\n",
       "</div>"
      ],
      "text/plain": [
       "   data_currentTime  data_pageCount  data_page  data_pageSize  data_isNoStock  \\\n",
       "0      1.546511e+12             4.0        3.0           10.0             0.0   \n",
       "1               NaN             NaN        NaN            NaN             NaN   \n",
       "2               NaN             NaN        NaN            NaN             NaN   \n",
       "3               NaN             NaN        NaN            NaN             NaN   \n",
       "4               NaN             NaN        NaN            NaN             NaN   \n",
       "\n",
       "  data_success                             data_wareInfoList_name  \\\n",
       "0         True  【自营】【整箱】京华门 北京二锅头酒绿瓶 56度 清香风格 500ml*12瓶（产品包装升级...   \n",
       "1          NaN                    【自营】【整箱】喜力（Heineken）啤酒500ml*12听   \n",
       "2          NaN                                                NaN   \n",
       "3          NaN                                                NaN   \n",
       "4          NaN                                                NaN   \n",
       "\n",
       "   data_wareInfoList_skuId                         data_wareInfoList_imageUrl  \\\n",
       "0             1.000004e+11  //img10.360buyimg.com/n7/jfs/t1/8619/15/8670/2...   \n",
       "1             7.120050e+06  //img10.360buyimg.com/n7/jfs/t18775/305/176424...   \n",
       "2                      NaN                                                NaN   \n",
       "3                      NaN                                                NaN   \n",
       "4                      NaN                                                NaN   \n",
       "\n",
       "   data_wareInfoList_price  ...   \\\n",
       "0                     89.0  ...    \n",
       "1                     86.0  ...    \n",
       "2                      NaN  ...    \n",
       "3                      NaN  ...    \n",
       "4                      NaN  ...    \n",
       "\n",
       "   data_wareInfoList_seckillPromotion_minAmount  \\\n",
       "0                                           NaN   \n",
       "1                                           NaN   \n",
       "2                                           NaN   \n",
       "3                                           NaN   \n",
       "4                                           NaN   \n",
       "\n",
       "  data_wareInfoList_seckillPromotion_maxAmount  \\\n",
       "0                                          NaN   \n",
       "1                                          NaN   \n",
       "2                                          NaN   \n",
       "3                                          NaN   \n",
       "4                                          NaN   \n",
       "\n",
       "  data_wareInfoList_seckillPromotion_price  \\\n",
       "0                                      NaN   \n",
       "1                                      NaN   \n",
       "2                                      NaN   \n",
       "3                                      NaN   \n",
       "4                                      NaN   \n",
       "\n",
       "  data_wareInfoList_seckillPromotion_promotionPrice  \\\n",
       "0                                               NaN   \n",
       "1                                               NaN   \n",
       "2                                               NaN   \n",
       "3                                               NaN   \n",
       "4                                               NaN   \n",
       "\n",
       "  data_wareInfoList_promotionList_skuList_adWords  \\\n",
       "0                                             NaN   \n",
       "1                                             NaN   \n",
       "2                                             NaN   \n",
       "3                                             NaN   \n",
       "4                                             NaN   \n",
       "\n",
       "   data_wareInfoList_limitcount  data_wareInfoList_limitHour  \\\n",
       "0                           NaN                          NaN   \n",
       "1                           NaN                          NaN   \n",
       "2                           NaN                          NaN   \n",
       "3                           NaN                          NaN   \n",
       "4                           NaN                          NaN   \n",
       "\n",
       "   data_wareInfoList_promotionList_limitTime  \\\n",
       "0                                        NaN   \n",
       "1                                        NaN   \n",
       "2                                        NaN   \n",
       "3                                        NaN   \n",
       "4                                        NaN   \n",
       "\n",
       "   data_wareInfoList_seckillPromotion_limitTime  code  \n",
       "0                                           NaN   0.0  \n",
       "1                                           NaN   NaN  \n",
       "2                                           NaN   NaN  \n",
       "3                                           NaN   NaN  \n",
       "4                                           NaN   NaN  \n",
       "\n",
       "[5 rows x 116 columns]"
      ]
     },
     "execution_count": 12,
     "metadata": {},
     "output_type": "execute_result"
    }
   ],
   "source": [
    "import pandas as pd\n",
    "csv_data = pd.read_csv('final_utf8.csv')\n",
    "csv_data.head(5)"
   ]
  }
 ],
 "metadata": {
  "kernelspec": {
   "display_name": "Python 3",
   "language": "python",
   "name": "python3"
  },
  "language_info": {
   "codemirror_mode": {
    "name": "ipython",
    "version": 3
   },
   "file_extension": ".py",
   "mimetype": "text/x-python",
   "name": "python",
   "nbconvert_exporter": "python",
   "pygments_lexer": "ipython3",
   "version": "3.6.3"
  }
 },
 "nbformat": 4,
 "nbformat_minor": 2
}
